{
 "cells": [
  {
   "cell_type": "markdown",
   "id": "e4fec8c0-c126-424e-a481-6342b6f0f706",
   "metadata": {},
   "source": [
    "# Plot the closure of $\\chi_{\\perp}$ (read) by $u_{\\perp}$ (calc)\n",
    "See *plot_uchidotn_bothcalc.ipynb*"
   ]
  },
  {
   "cell_type": "code",
   "execution_count": 1,
   "id": "99d66f9f-1cd3-47a9-99c5-57ab4076acfc",
   "metadata": {},
   "outputs": [],
   "source": [
    "clear\n",
    "homedir = getenv('HOME');\n",
    "workdir = getenv('WORK');\n",
    "scradir = getenv('SCRATCH');\n",
    "addpath(genpath([homedir '/work_MOM']));\n",
    "addpath(genpath([homedir '/mytoolbox']));\n",
    "addpath(genpath([homedir '/MyFuncs']));"
   ]
  },
  {
   "cell_type": "code",
   "execution_count": 2,
   "id": "fca51044-248a-4bee-9b0c-5cd0453e6e30",
   "metadata": {},
   "outputs": [
    {
     "name": "stdout",
     "output_type": "stream",
     "text": [
      "Will do time = Y21 D1-D730.\n"
     ]
    }
   ],
   "source": [
    "%-------- dir for  \n",
    "tmStr = '_180d';\n",
    "grid_dir = [workdir '/MOM6_exp/mom_lowRES/'];  \n",
    "exp_dir = [workdir '/MOM6_OUT/tr_off_64' tmStr '/'];\n",
    "chi_dir = [workdir  '/MOM6_OUT/tr_off_64' tmStr '/params/lmddotn_SIGNxmean_ka400_usesol_prog_addreld10/C09/'];\n",
    "% \n",
    "h_dir = [workdir '/MOM6_OUT/forc_uvh_64/sol_h' tmStr '/'];\n",
    "uvh_dir = [workdir '/MOM6_OUT/forc_uvh_64/uvhm_CS_decomp' tmStr '/'];\n",
    "tr_dir = [exp_dir 'sols_pt/tr_forcprog_addrel10d_ptrel/'];\n",
    "\n",
    "dt_flxmean = 6/24;\n",
    "\n",
    "% ------ time\n",
    "yr_s = 21;\n",
    "[day_s, day_e, dt] = deal(1, 730, 1); % 6/24\n",
    "t_al = day_s:dt:day_e;\n",
    "nt_al = length(t_al);\n",
    "fprintf(1,'Will do time = Y%s D%s-D%s.\\n',num2str(yr_s), num2str(t_al(1)), num2str(t_al(end)) );\n",
    "\n",
    "%-------- read model grid\n",
    "[grid, ~, ~] = read_grid_MOM([grid_dir '']); % SOLUTION/\n",
    "nk = length(grid.Layer);\n"
   ]
  },
  {
   "cell_type": "code",
   "execution_count": 3,
   "id": "2b1f1d80-b902-44be-9923-1beb57eb765b",
   "metadata": {},
   "outputs": [],
   "source": [
    "[chin_t,un_t,undir_t] = deal(zeros(grid.nih,grid.njh,nk,nt_al));\n",
    "\n",
    "for it = 1:nt_al\n",
    "\n",
    "    [t1, t2] = deal(t_al(it), t_al(it)+dt_flxmean);\n",
    "    t15 = (t1 + t2)/2;\n",
    "    [yrstr, dystr, hrstr] = get_timestr(t1, yr_s);\n",
    "    [yrstr15, dystr15, hrstr15] = get_timestr(t15, yr_s); \n",
    "    \n",
    "    %---- read\n",
    "    chin_fnm = [chi_dir 'K__' yrstr '_' dystr '_' hrstr '.nc'];\n",
    "    h_fnm = [h_dir 'h_snap__' yrstr '_' dystr '_' hrstr '.nc'];\n",
    "    flx_fnm = [uvh_dir 'uvh_mean__' yrstr15 '_' dystr15 '_' hrstr15 '.nc'];\n",
    "    tr_fnm = [tr_dir 'tr__' yrstr '_' dystr '_' hrstr '.nc'];\n",
    "    ds_chi = ncstruct(chin_fnm);\n",
    "    ds_h = ncstruct(h_fnm);\n",
    "    ds_uvh = ncstruct(flx_fnm);\n",
    "    ds_tr = ncstruct(tr_fnm);\n",
    "    %\n",
    "    chidotn = ds_chi.chidotn;\n",
    "    % chidotn = filter_extreme(chidotn,1,99);\n",
    "    chin_t(:,:,:,it) = chidotn;\n",
    "    \n",
    "    %--- get u_perp\n",
    "    for ik = 1:nk\n",
    "        [uh, vh] = deal(ds_uvh.uh(:,:,ik)./grid.dyCu, ds_uvh.vh(:,:,ik)./grid.dxCv);\n",
    "        h = ds_h.h(:,:,ik);\n",
    "        c = ds_tr.tr1(:,:,ik);\n",
    "        % on p\n",
    "        [uh_p, vh_p] = uv2p_CG(uh, vh);\n",
    "        [up, vp] = deal(uh_p./h, vh_p./h);\n",
    "        \n",
    "        % \n",
    "        [hcx,hcy] = calc_GxGy_CG(c,h,grid.dxCu,grid.dyCu,grid.dxCv,grid.dyCv,0);\n",
    "        hcx([1 end],:) = 0; hcy(:,[1 end]) = 0;\n",
    "        [hcx_p,hcy_p] = uv2p_CG(hcx,hcy);\n",
    "        hcgrad_norm = sqrt(hcx_p.^2 + hcy_p.^2);\n",
    "        [nx, ny] = deal(hcx_p ./ hcgrad_norm, hcy_p ./ hcgrad_norm); \n",
    "        \n",
    "        % sign\n",
    "        hcy_xmean = mean(hcy_p,1);\n",
    "        sign2d = sign( repmat(hcy_xmean, [grid.nih 1]) );\n",
    "        % sign2d = 1;\n",
    "        \n",
    "        % indirect method = (div{Uc}-c*divU)/|h*delc| [m/s]\n",
    "        [uc, vc] = calc_TFluxes_CG(uh, vh, c, '2nd_order');\n",
    "        divuc = calc_div_CG(uc, vc, grid.dyCu,grid.dxCv,grid.dxT,grid.dyT, 1);\n",
    "        cdivu = c .* calc_div_CG(uh, vh, grid.dyCu,grid.dxCv,grid.dxT,grid.dyT, 1);\n",
    "        udelc = divuc - cdivu;\n",
    "        udotn = udelc ./ hcgrad_norm ./ sign2d;\n",
    "        % dir method (similar to indirect method)\n",
    "        udotn_dir = (up.*nx + vp.*ny) .* sign2d;\n",
    "        \n",
    "        un_t(:,:,ik,it) = udotn;\n",
    "        undir_t(:,:,ik,it) = udotn_dir;\n",
    "    end\n",
    "end"
   ]
  },
  {
   "cell_type": "markdown",
   "id": "de88011a-fe64-40c6-bab1-9558b7538e43",
   "metadata": {},
   "source": [
    "## time smooth $\\chi_{\\perp}$ and $u_{\\perp}$"
   ]
  },
  {
   "cell_type": "code",
   "execution_count": 4,
   "id": "d8eefe10-2df8-42cd-8360-1bc24a1ac5af",
   "metadata": {},
   "outputs": [],
   "source": [
    "t_dim = 4;\n",
    "% slide-mean to eliminate noises\n",
    "win_dy = 5; % window len in [day] \n",
    "win_hf = (win_dy/dt) / 2; % # of data points in half of the window (even)\n",
    "chin_t_sld = movmean(chin_t, [win_hf, win_hf], t_dim);\n",
    "udotn_t_sld = movmean(un_t, [win_hf, win_hf], t_dim);\n",
    "udotndir_t_sld = movmean(undir_t, [win_hf, win_hf], t_dim);"
   ]
  },
  {
   "cell_type": "markdown",
   "id": "41098ebf-4ddb-4df0-87b3-58c4c195dc30",
   "metadata": {
    "tags": []
   },
   "source": [
    "## get GS core"
   ]
  },
  {
   "cell_type": "code",
   "execution_count": 5,
   "id": "dc8d0ed7-a794-4361-b3e7-358f332605b4",
   "metadata": {},
   "outputs": [],
   "source": [
    "ds_GS = load('GScore_mom_unsm_wide.mat'); % GScore_mom_unsm_wide or GScore_mom_5yr\n",
    "[ii_GS, jj_GS] = deal(ds_GS.ii, ds_GS.jj);\n",
    "[x_GSC_t, y_GSC_t, id_lat_spdt] = deal(zeros(length(ii_GS),nt_al));\n",
    "for it = 1:nt_al\n",
    "    it_ds = find(t_al(it) == ds_GS.t_al);\n",
    "    id_lat_spdt(:,it) = ds_GS.id_lat_spdt(:,it_ds);\n",
    "    x_GSC_t(:,it) = ds_GS.x_GSC_t(:,it_ds);\n",
    "    y_GSC_t(:,it) = ds_GS.y_GSC_t(:,it_ds);\n",
    "end\n",
    "x_GSC_m = ds_GS.x_GSC_m;\n",
    "y_GSC_m = ds_GS.y_GSC_m;"
   ]
  },
  {
   "cell_type": "markdown",
   "id": "c64f05ae-53cc-4340-9225-0af326f14bfa",
   "metadata": {},
   "source": [
    "## CORR of $\\chi_{\\perp}$ and $u_{\\perp}$"
   ]
  },
  {
   "cell_type": "code",
   "execution_count": 6,
   "id": "2d596626-d901-4fc4-a0c6-1832dc260b36",
   "metadata": {},
   "outputs": [],
   "source": [
    "dim = 4;\n",
    "\n",
    "% --- corr over time\n",
    "it_cor = 1:nt_al;\n",
    "[corr3d_chinun, slp3d, intcp3d, r2, pval] = deal(zeros(grid.nih,grid.njh,nk));\n",
    "\n",
    "for ik = 1:nk\n",
    "    [un_3d, chin_3d] = deal( udotn_t_sld(:,:,ik,it_cor), chin_t_sld(:,:,ik,it_cor) );\n",
    "    [un_3d, chin_3d] = deal( squeeze(un_3d), squeeze(chin_3d) );\n",
    "    corr3d_chinun(:,:,ik) = corr_array(un_3d,chin_3d,3);\n",
    "end"
   ]
  },
  {
   "cell_type": "markdown",
   "id": "f52704f2-cb9c-4d34-aea6-1d6245a6a722",
   "metadata": {
    "tags": []
   },
   "source": [
    "## data"
   ]
  },
  {
   "cell_type": "code",
   "execution_count": 7,
   "id": "2d29f19c-fe58-4b27-9ba3-7f26f5e02218",
   "metadata": {},
   "outputs": [],
   "source": [
    "% savename = [homedir '/work_MOM/data_for_figure/closure_chi_u.nc'];\n",
    "\n",
    "% % save nc\n",
    "% dim_name = {'xh','yh','zl','Time'};\n",
    "% dim_length = [grid.nih, grid.njh, nk, 1];\n",
    "% varname = {'alpha','corr'};\n",
    "% dimNum_of_var = {[1,2,3,4],[1,2,3,4]};\n",
    "% data = {slp3d,corr3d_chinun};\n",
    "\n",
    "% global_att  = ['chi_perp = -alpha * u_perp'...\n",
    "%             't_al(1)='  num2str(t_al(1)) '; t_al(end)='  num2str(t_al(end)) ...\n",
    "%             '; chi_dir=' chi_dir '; h_dir=' h_dir '; uvh_dir=' uvh_dir '; tr_dir=' tr_dir ];\n",
    "% FUN_nc_easywrite_enhanced( savename, dim_name, dim_length,...\n",
    "%     varname, dimNum_of_var, data, global_att )\n",
    " "
   ]
  },
  {
   "cell_type": "markdown",
   "id": "59e80549-d7da-4c6a-8949-61545aeb8f1b",
   "metadata": {},
   "source": [
    "## plot their meridional sections\n",
    "\n",
    "find the non-dimensional factor $\\alpha$ that minimizes the loss function \n",
    "- $\\int|| \\chi_{\\perp} + \\alpha u_{\\perp} || \\, dy$"
   ]
  },
  {
   "cell_type": "code",
   "execution_count": 8,
   "id": "aab93f7b-4233-4a7e-a4e1-853c57971edd",
   "metadata": {},
   "outputs": [],
   "source": [
    "[x, y] = deal(grid.lonh, grid.lath);\n",
    "% \n",
    "ik = 1;\n",
    "mean_chi = nanmean(chin_t(:,:,ik,:), dim); \n",
    "mean_un = nanmean(un_t(:,:,ik,:), dim); % udotndir_t_sld udotn_t_sld\n",
    "\n",
    "fy_chi = mean(mean_chi,1);\n",
    "fy_u = mean(mean_un,1); \n",
    "\n",
    "% ------------ find alpha in a certain latitude band ------------------\n",
    "ylims = [1600 2250];  \n",
    "[~, jj_s] = min(abs(y - ylims(1))); [~, jj_e] = min(abs(y - ylims(2)));\n",
    "[f1, f2] = deal(fy_chi(jj_s:jj_e), -fy_u(jj_s:jj_e));\n",
    "\n",
    "% ----- find the ratio that minimizes the loss function\n",
    "fun = @(x)mismatch_func(x,f1,f2);\n",
    "x0 = 1.0;\n",
    "opt = optimset('Display','none', 'MaxIter',1e3, 'MaxFunEvals',1e3, 'TolFun', 1e-7, 'TolX', 1e-7);\n",
    "% do minminization\n",
    "[alpha,fval,exitflag,output] = fminsearch(fun,x0,opt); % [x,fval,exitflag,output] = fminunc(fun,x0,opt);\n",
    "% \n",
    "alpha_1d = zeros(size(fy_u));\n",
    "alpha_1d(jj_s:jj_e) = alpha;\n",
    "% alpha_1d(:) = alpha;\n",
    "fy_chi_pred = -alpha_1d.*fy_u;\n"
   ]
  },
  {
   "cell_type": "code",
   "execution_count": 9,
   "id": "ab019d24-c1e0-493f-bb06-d83a0ac1ad17",
   "metadata": {},
   "outputs": [
    {
     "data": {
      "image/png": "[encoded data removed]",
      "text/plain": [
       "<IPython.core.display.Image object>"
      ]
     },
     "metadata": {},
     "output_type": "display_data"
    }
   ],
   "source": [
    "x1 = 0.05; y1 = 0.55; w1 = 0.4; h1 = w1;\n",
    "x2 = x1+w1+0.05; y2 = y1; w2 = 0.25; h2 = h1;\n",
    "\n",
    "pos1 = [x1 y1 w1 h1];\n",
    "pos2 = [x2 y2 w2 h2];\n",
    "[x, y] = deal(grid.lonh, grid.lath);\n",
    "ik = 1;\n",
    "\n",
    "% ------------------------------ plot\n",
    "font = 'DejaVu Sans';\n",
    "figure('DefaultTextFontName', font, 'DefaultAxesFontName', font);\n",
    "% ----- left 2d map\n",
    "clim = [-1 1];\n",
    "ax = subplot('Position',pos1);\n",
    "imagescn(x, y, corr3d_chinun(:,:,ik)'); axis square; set(gca,'tickdir','out');\n",
    "% set(gca,'xticklabel','')\n",
    "caxis(clim);\n",
    "cmap = cmocean('balance',20);\n",
    "colormap(cmap);\n",
    "% title('$\\textrm{Corr}(\\textrm{u}_{\\perp},\\, \\chi_{\\perp})$','Interpreter','latex','fontsize',14)\n",
    "title('CORR(\\chi_{\\perp}, u_{\\perp})')\n",
    "\n",
    "hold on; scatter(x_GSC_m, y_GSC_m, 10,'.m')\n",
    "cb = colorbar;\n",
    "cb.XTick = clim(1):.2:clim(2);\n",
    "% cb.Position = [cb.Position(1)+0.04 cb.Position(2) 0.02 cb.Position(4)];\n",
    "\n",
    "% ----- right y-profile\n",
    "ax = subplot('Position',pos2);\n",
    "plot(fy_chi, y, 'k-', 'linewidth', .8);\n",
    "hold on\n",
    "plot(-fy_u, y, 'k-.', 'linewidth', .8);\n",
    "hold on\n",
    "plot(fy_chi_pred, y, 'r-', 'linewidth', .8);\n",
    "\n",
    "ax = gca;\n",
    "ax.XGrid = 'on'; ax.YGrid = 'on';\n",
    "ax.XLim = [-1 1]*0.04;\n",
    "ax.YLim = y([1 end]);\n",
    "ax.YTickLabel = '';\n",
    "ax.TickDir = 'out';\n",
    "hold on; hline(mean(y_GSC_m),':m','HandleVisibility','off');\n",
    "hold on; hline(y(jj_s),':k','HandleVisibility','off');\n",
    "hold on; hline(y(jj_e),':k','HandleVisibility','off');\n",
    "legend('\\chi_{\\perp}','-u_{\\perp}','-\\alphau_{\\perp}','fontsize',8)\n",
    "title(['\\alpha = ' num2str(alpha,'%3.2f')])\n",
    "xlabel('m s^{-1}')\n",
    "\n",
    "hb = subplotlabel(gcf,'a','location','northwestoutside','offset',[-0.12 0.01],'Prefix','(','Postfix',')');\n",
    "\n",
    "% ---\n",
    "set(gcf,'PaperPositionMode','auto'); \n",
    "fignm = [homedir '/work_MOM/figures/fig13_closure_chi_u'];\n",
    "% exportgraphics(gcf,[fignm '.pdf'], 'BackgroundColor','white','ContentType','vector')"
   ]
  },
  {
   "cell_type": "markdown",
   "id": "1e6abb66-fd62-4764-af06-138ca97e00b6",
   "metadata": {},
   "source": [
    "## extended to 2d map"
   ]
  },
  {
   "cell_type": "code",
   "execution_count": 30,
   "id": "94024c28-4fb4-45b2-a115-dc08627e0d97",
   "metadata": {},
   "outputs": [],
   "source": [
    "[chin_3d] = deal(zeros(grid.nih, grid.njh, nk));\n",
    "ii_do = 1:length(y_GSC_m);\n",
    "j_pred_0cros = 37;\n",
    "\n",
    "fy_chi_pred_ext = [zeros(1,5) fy_chi_pred zeros(1,5)];\n",
    "\n",
    "for ik = 1:nk\n",
    "    for i = ii_do\n",
    "        [~, j_GSC_temp] = min(abs(y - y_GSC_m(i)));\n",
    "        \n",
    "        %-- at core\n",
    "        chin_3d(i,j_GSC_temp,ik) = 0;\n",
    "        \n",
    "        %-- north\n",
    "        jj = j_GSC_temp+1:grid.njh;\n",
    "        jj_pred = j_pred_0cros : j_pred_0cros + length(jj)-1;\n",
    "        chin_3d(i,jj,ik) = fy_chi_pred_ext(jj_pred);\n",
    "        \n",
    "        %-- south\n",
    "        jj = 1:j_GSC_temp-1;\n",
    "        jj_pred = j_pred_0cros-length(jj):j_pred_0cros-1;\n",
    "        chin_3d(i,jj,ik) = fy_chi_pred_ext(jj_pred);\n",
    "    end\n",
    "end"
   ]
  },
  {
   "cell_type": "code",
   "execution_count": 31,
   "id": "5d271048-42f7-4264-aa06-db6b3055fd8c",
   "metadata": {},
   "outputs": [
    {
     "data": {
      "image/png": "[encoded data removed]",
      "text/plain": [
       "<IPython.core.display.Image object>"
      ]
     },
     "metadata": {},
     "output_type": "display_data"
    }
   ],
   "source": [
    "ik = 1;\n",
    "clim = [-1 1]*1e-1;\n",
    "figure\n",
    "imagescn(x, y, chin_3d(:,:,ik)'); axis square; set(gca,'tickdir','out');\n",
    "caxis(clim); cmocean('balance'); colorbar\n",
    "hold on; scatter(x_GSC_m, y_GSC_m,6,'.m')"
   ]
  },
  {
   "cell_type": "markdown",
   "id": "1454b9ca-0c7c-41f8-bd36-fc11b7fae89c",
   "metadata": {},
   "source": [
    "## save to .nc"
   ]
  },
  {
   "cell_type": "code",
   "execution_count": 32,
   "id": "cdf33186-c732-4a9a-bd53-6c70f768ad71",
   "metadata": {},
   "outputs": [],
   "source": [
    "savename = [workdir '/MOM6_OUT/tr_off_64_180d/params/ideal_prof/chinxyz_closure1d_alpha2.nc'];\n",
    "\n",
    "%------------------------ save nc\n",
    "dim_name = {'xh','yh','zl','Time'};\n",
    "dim_length = [grid.nih, grid.njh, nk, 1];\n",
    "varname = {'chidotn'};\n",
    "dimNum_of_var = {[1,2,3,4]};\n",
    "data = {chin_3d};\n",
    "\n",
    "global_att  = ['chi_perp = -alpha)*TXmean(u_perp)(y) -> extend 2d; '...\n",
    "            't_al(1)='  num2str(t_al(1)) '; t_al(end)='  num2str(t_al(end)) ...\n",
    "            '; dt=' num2str(dt) '; alpha=' num2str(alpha)];\n",
    "FUN_nc_easywrite_enhanced( savename, dim_name, dim_length,...\n",
    "    varname, dimNum_of_var, data, global_att )"
   ]
  }
 ],
 "metadata": {
  "kernelspec": {
   "display_name": "Matlab R2022b",
   "language": "matlab",
   "name": "matlab-r2022b"
  },
  "language_info": {
   "codemirror_mode": "octave",
   "file_extension": ".m",
   "help_links": [
    {
     "text": "MetaKernel Magics",
     "url": "https://metakernel.readthedocs.io/en/latest/source/README.html"
    }
   ],
   "mimetype": "text/x-octave",
   "name": "matlab",
   "version": "0.17.1"
  }
 },
 "nbformat": 4,
 "nbformat_minor": 5
}
