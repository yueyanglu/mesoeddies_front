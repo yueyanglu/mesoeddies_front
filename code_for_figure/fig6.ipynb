{
 "cells": [
  {
   "cell_type": "markdown",
   "id": "de2f2b27-f652-4e86-86f8-b7d0846db76b",
   "metadata": {
    "tags": []
   },
   "source": [
    "# Calc the tracer dependence of EIV and EEIV"
   ]
  },
  {
   "cell_type": "code",
   "execution_count": 1,
   "id": "744f8db5-6750-4a97-be67-c268e604c1cb",
   "metadata": {},
   "outputs": [],
   "source": [
    "clear\n",
    "homedir = getenv('HOME');\n",
    "workdir = getenv('WORK');\n",
    "scradir = getenv('SCRATCH');\n",
    "campdir = getenv('CAMP');\n",
    "addpath(genpath([homedir '/work_MOM']));\n",
    "addpath(genpath([homedir '/mytoolbox']));\n",
    "addpath(genpath([homedir '/MyFuncs']));"
   ]
  },
  {
   "cell_type": "code",
   "execution_count": 2,
   "id": "611b7112-87c4-4777-ae49-ea14c86a0b11",
   "metadata": {},
   "outputs": [],
   "source": [
    "%-------- read model grid\n",
    "grid_dir = [workdir '/MOM6_exp/mom_lowRES/'];  \n",
    "[grid, ~, ~] = read_grid_MOM([grid_dir '']); % SOLUTION/\n",
    "klay = 1;\n",
    "\n",
    "% ------- time\n",
    "yr_s = 21;\n",
    "[day_s, day_e, dt] = deal(31, 730, 30); \n",
    "t_al = day_s:dt:day_e;\n",
    "nt_al = length(t_al);\n",
    "\n",
    "%-------- dir \n",
    "tmStr = '_180d';\n",
    "carries = [1:8 9 11];\n",
    "% \n",
    "EEIV_dir = [workdir '/MOM6_OUT/tr_off_64' tmStr '/params/lmddotn_SIGNxmean_ka400_usesol_prog_addreld10/'];  \n",
    "trac_comb_EEIV = nchoosek(carries,1);\n",
    "ncomb_EEIV = size(trac_comb_EEIV,1);\n",
    "% \n",
    "EIV_dir = [workdir '/MOM6_OUT/tr_off_64' tmStr '/params/lmd_ka400_usesol_prog_addreld10/'];  \n",
    "trac_comb_EIV = nchoosek(carries,2);\n",
    "% randomly choose\n",
    "ncomb_choose = 10;\n",
    "icomb_choose = sort( randperm(size(trac_comb_EIV,1), ncomb_choose) );\n",
    "trac_comb_EIV = trac_comb_EIV(icomb_choose,:);\n",
    "% \n",
    "ncomb_EIV = size(trac_comb_EIV,1);"
   ]
  },
  {
   "cell_type": "code",
   "execution_count": 3,
   "id": "16146675-29ee-4e61-a794-ec764eba8b45",
   "metadata": {},
   "outputs": [],
   "source": [
    "EEIV_al = zeros(grid.nih,grid.njh,nt_al,ncomb_EEIV);\n",
    "[EIV_u_al, EIV_v_al] = deal(zeros(grid.nih,grid.njh,nt_al,ncomb_EIV));\n",
    "\n",
    "for icomb = 1:ncomb_EEIV\n",
    "    read_dir = [EEIV_dir 'C' num2str(trac_comb_EEIV(icomb,:),'%02d') '/'];\n",
    "    for it = 1:nt_al\n",
    "        [yrstr, dystr, hrstr] = get_timestr(t_al(it), yr_s); \n",
    "        fnm = [read_dir 'K__' yrstr '_' dystr '_' hrstr '.nc'];\n",
    "        ds = ncstruct(fnm);\n",
    "        EEIV_al(:,:,it,icomb) = ds.chidotn(:,:,klay); \n",
    "    end % t\n",
    "end % tr-set\n",
    "\n",
    "for icomb = 1:ncomb_EIV\n",
    "    read_dir = [EIV_dir 'C' num2str(trac_comb_EIV(icomb,:),'%02d') '/'];\n",
    "    for it = 1:nt_al\n",
    "        [yrstr, dystr, hrstr] = get_timestr(t_al(it), yr_s); \n",
    "        fnm = [read_dir 'K__' yrstr '_' dystr '_' hrstr '.nc'];\n",
    "        ds = ncstruct(fnm);\n",
    "        EIV_u_al(:,:,it,icomb) = ds.lmdu(:,:,klay); \n",
    "        EIV_v_al(:,:,it,icomb) = ds.lmdv(:,:,klay); \n",
    "    end % t\n",
    "end % tr-set\n",
    "\n",
    "\n",
    "% --- std/mean\n",
    "dim = 4;\n",
    "fluc_EEIV = std(EEIV_al, 1, dim, 'omitnan') ./ abs(nanmean(EEIV_al, dim));\n",
    "fluc_EIVu = std(EIV_u_al, 1, dim, 'omitnan') ./ abs(nanmean(EIV_u_al, dim));\n",
    "fluc_EIVv = std(EIV_v_al, 1, dim, 'omitnan') ./ abs(nanmean(EIV_v_al, dim));\n",
    "fluc_EIV = (fluc_EIVu + fluc_EIVv) / 2;\n"
   ]
  },
  {
   "cell_type": "code",
   "execution_count": 4,
   "id": "ee6e64a6-fe3f-4d2a-af7d-9ab33491b80e",
   "metadata": {},
   "outputs": [],
   "source": [
    "% -- save data\n",
    "savefnm = [homedir '/work_MOM/data_for_figure/data_fig6.mat'];\n",
    "save(savefnm,'t_al','dt','EEIV_dir','EIV_dir','fluc_EEIV','fluc_EIVu','fluc_EIVv','fluc_EIV','trac_comb_EEIV','trac_comb_EIV');"
   ]
  },
  {
   "cell_type": "markdown",
   "id": "767b1ba9-4c94-46ac-83ed-6c3d7d6eb0cf",
   "metadata": {},
   "source": [
    "## PLOT"
   ]
  },
  {
   "cell_type": "code",
   "execution_count": 5,
   "id": "a5950204-1c77-4780-a53d-1d8e85724c02",
   "metadata": {},
   "outputs": [
    {
     "data": {
      "image/png": "[encoded data removed]",
      "text/plain": [
       "<IPython.core.display.Image object>"
      ]
     },
     "metadata": {},
     "output_type": "display_data"
    }
   ],
   "source": [
    "\n",
    "x_top = 0.15; y_top = 0.4; h_top = 0.4; w_top = 0.4; dx_top = 0.02;\n",
    "pos_top = { [x_top y_top w_top h_top], [x_top+w_top+dx_top y_top w_top h_top] };\n",
    "\n",
    "% ---- \n",
    "[err_m,err_med,err_h,err_l] = stats_ptc(fluc_EEIV, 75,25); \n",
    "% \n",
    "xlim = [t_al(1)-dt t_al(end)+dt]; ylim = [0 9]; dy = 1;\n",
    "x = t_al;\n",
    "y = err_med; [neg, pos] = deal(y - err_l, err_h - y);\n",
    "% \n",
    "figure\n",
    "subplot('Position',pos_top{1});\n",
    "h = errorbar(x,y,neg,pos);\n",
    "ax = gca;\n",
    "% set properties of plot\n",
    "h.Marker = '.';\n",
    "h.Color = 'k';\n",
    "h.MarkerSize = 12;\n",
    "h.LineStyle = 'none';\n",
    "ax.XLim = xlim;\n",
    "ax.YLim = ylim;\n",
    "ax.YTick = ylim(1):dy:ylim(2);\n",
    "ax.XGrid = 'on'; ax.YGrid = 'on';\n",
    "xlabel('day')\n",
    "title(['(a) EEIV'],'fontsize',12)\n",
    "\n",
    "% ---- \n",
    "[err_m,err_med,err_h,err_l] = stats_ptc(fluc_EIV, 75,25); \n",
    "% \n",
    "xlim = [t_al(1)-dt t_al(end)+dt]; ylim = [0 9]; dy = 1;\n",
    "x = t_al;\n",
    "y = err_med; [neg, pos] = deal(y - err_l, err_h - y);\n",
    "% \n",
    "subplot('Position',pos_top{2});\n",
    "h = errorbar(x,y,neg,pos);\n",
    "ax = gca;\n",
    "% set properties of plot\n",
    "h.Marker = '.';\n",
    "h.Color = 'k';\n",
    "h.MarkerSize = 12;\n",
    "h.LineStyle = 'none';\n",
    "ax.XLim = xlim;\n",
    "ax.YLim = ylim;\n",
    "ax.YTick = ylim(1):dy:ylim(2);\n",
    "ax.YTickLabel = '';\n",
    "ax.XGrid = 'on'; ax.YGrid = 'on';\n",
    "xlabel('day')\n",
    "title(['(b) EIV'],'fontsize',12)\n",
    "\n",
    "% ---\n",
    "set(gcf,'PaperPositionMode','auto'); \n",
    "fignm = [homedir '/work_MOM/figures/fig_trdepend_EEIV_EIV'];\n",
    "% exportgraphics(gcf,[fignm '.pdf'], 'BackgroundColor','white','ContentType','vector')\n"
   ]
  }
 ],
 "metadata": {
  "kernelspec": {
   "display_name": "Matlab R2022b",
   "language": "matlab",
   "name": "matlab-r2022b"
  },
  "language_info": {
   "codemirror_mode": "octave",
   "file_extension": ".m",
   "help_links": [
    {
     "text": "MetaKernel Magics",
     "url": "https://metakernel.readthedocs.io/en/latest/source/README.html"
    }
   ],
   "mimetype": "text/x-octave",
   "name": "matlab",
   "version": "0.17.1"
  }
 },
 "nbformat": 4,
 "nbformat_minor": 5
}
